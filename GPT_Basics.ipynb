{
 "cells": [
  {
   "cell_type": "markdown",
   "id": "86d5576e-47b5-47f9-96fb-a9e1964059f1",
   "metadata": {},
   "source": [
    "### This notebook is prepared alongside the youtube video from Colt Steele\n",
    "\n",
    "URL: [GPT-4 API Crash Course - Get Coding In 10 Minutes\n",
    "](https://www.youtube.com/watch?v=hmTjZ8FvkfQ)\n",
    "\n",
    "Instructor: [Colt Steele](https://www.youtube.com/@ColtSteeleCode)\n",
    "\n"
   ]
  },
  {
   "cell_type": "code",
   "execution_count": 22,
   "id": "121bc9f0-b9ec-44af-a416-6f4a180fec6d",
   "metadata": {
    "tags": []
   },
   "outputs": [],
   "source": [
    "import openai\n",
    "# from dotenv import load_dotenv\n",
    "import os"
   ]
  },
  {
   "cell_type": "code",
   "execution_count": 2,
   "id": "8a8cfe63-2a22-4331-b866-f261c208e07a",
   "metadata": {
    "tags": []
   },
   "outputs": [],
   "source": [
    "# load_dotenv(\".env\")\n",
    "# openai.api_key = os.environ[\"OPENAI_API_KEY\"]\n",
    "openai.api_key = os.getenv(\"OPENAI_API_KEY\")"
   ]
  },
  {
   "cell_type": "code",
   "execution_count": 12,
   "id": "59992d1e-cf51-4822-a677-3fff000a48ad",
   "metadata": {
    "tags": []
   },
   "outputs": [],
   "source": [
    "with open(\"model_list\", \"w\") as model_list_file:\n",
    "    model_list_file.write(str(openai.Model.list()))"
   ]
  },
  {
   "cell_type": "code",
   "execution_count": 20,
   "id": "8b1d5aa0-9190-4d58-aef9-b570f4a34458",
   "metadata": {
    "tags": []
   },
   "outputs": [
    {
     "name": "stdout",
     "output_type": "stream",
     "text": [
      "['babbage', 'davinci', 'text-davinci-edit-001', 'babbage-code-search-code', 'text-similarity-babbage-001', 'code-davinci-edit-001', 'text-davinci-001', 'ada', 'babbage-code-search-text', 'babbage-similarity', 'code-search-babbage-text-001', 'text-curie-001', 'code-search-babbage-code-001', 'text-ada-001', 'text-embedding-ada-002', 'text-similarity-ada-001', 'curie-instruct-beta', 'ada-code-search-code', 'ada-similarity', 'code-search-ada-text-001', 'text-search-ada-query-001', 'davinci-search-document', 'ada-code-search-text', 'text-search-ada-doc-001', 'davinci-instruct-beta', 'text-similarity-curie-001', 'code-search-ada-code-001', 'ada-search-query', 'text-search-davinci-query-001', 'curie-search-query', 'davinci-search-query', 'babbage-search-document', 'ada-search-document', 'text-search-curie-query-001', 'whisper-1', 'text-search-babbage-doc-001', 'curie-search-document', 'text-search-curie-doc-001', 'babbage-search-query', 'text-babbage-001', 'text-search-davinci-doc-001', 'gpt-3.5-turbo-0301', 'text-search-babbage-query-001', 'curie-similarity', 'gpt-3.5-turbo', 'curie', 'text-davinci-003', 'text-similarity-davinci-001', 'text-davinci-002', 'davinci-similarity', 'cushman:2020-05-03', 'ada:2020-05-03', 'babbage:2020-05-03', 'curie:2020-05-03', 'davinci:2020-05-03', 'if-davinci-v2', 'if-curie-v2', 'if-davinci:3.0.0', 'davinci-if:3.0.0', 'davinci-instruct-beta:2.0.0', 'text-ada:001', 'text-davinci:001', 'text-curie:001', 'text-babbage:001']\n"
     ]
    }
   ],
   "source": [
    "data = openai.Model.list()\n",
    "model_list = []\n",
    "for model in data[\"data\"]:\n",
    "    model_list.append(model[\"id\"])\n",
    "\n",
    "print(model_list)  # Output: ['babbage', 'davinci']"
   ]
  },
  {
   "cell_type": "code",
   "execution_count": 21,
   "id": "832ca360-ad42-4c7f-9518-06c3f9e16fec",
   "metadata": {
    "tags": []
   },
   "outputs": [],
   "source": [
    "my_model_list_file = open(\"model_list\", \"w\")\n",
    "for model in model_list:\n",
    "    my_model_list_file.write(model + \"\\n\")\n",
    "my_model_list_file.close()"
   ]
  },
  {
   "cell_type": "code",
   "execution_count": 3,
   "id": "e802cbb6-b055-4af1-ab54-ccc02bede865",
   "metadata": {
    "tags": []
   },
   "outputs": [
    {
     "data": {
      "text/plain": [
       "<OpenAIObject text_completion id=cmpl-7AXicCRgyCg3HGFpIzzMX3xZuyKoO at 0x7ff730cf2f40> JSON: {\n",
       "  \"choices\": [\n",
       "    {\n",
       "      \"finish_reason\": \"length\",\n",
       "      \"index\": 0,\n",
       "      \"logprobs\": null,\n",
       "      \"text\": \"\\n\\nQ: What did the fish say when he hit a concrete wall?\"\n",
       "    }\n",
       "  ],\n",
       "  \"created\": 1682747250,\n",
       "  \"id\": \"cmpl-7AXicCRgyCg3HGFpIzzMX3xZuyKoO\",\n",
       "  \"model\": \"text-davinci-003\",\n",
       "  \"object\": \"text_completion\",\n",
       "  \"usage\": {\n",
       "    \"completion_tokens\": 16,\n",
       "    \"prompt_tokens\": 4,\n",
       "    \"total_tokens\": 20\n",
       "  }\n",
       "}"
      ]
     },
     "execution_count": 3,
     "metadata": {},
     "output_type": "execute_result"
    }
   ],
   "source": [
    "# Completion format for talking with chatbot\n",
    "openai.Completion.create(\n",
    "    model = \"text-davinci-003\",\n",
    "    prompt=\"tell me a joke\"\n",
    ")"
   ]
  },
  {
   "cell_type": "code",
   "execution_count": 4,
   "id": "be2f8ad4-5bf0-4d4b-9cfb-b94da981ac6b",
   "metadata": {
    "tags": []
   },
   "outputs": [],
   "source": [
    "res = openai.ChatCompletion.create(\n",
    "    model = \"gpt-3.5-turbo\",\n",
    "    messages=[{\"role\":\"user\", \"content\":\"write a python function to compute bmi from height and weight\"}]\n",
    ")"
   ]
  },
  {
   "cell_type": "code",
   "execution_count": 5,
   "id": "3b1ca1fa-63cc-4a45-8a02-9199e072fe38",
   "metadata": {
    "tags": []
   },
   "outputs": [
    {
     "name": "stdout",
     "output_type": "stream",
     "text": [
      "As an AI language model, I can provide you with sample code on how to make a Python function that computes BMI from height and weight. Here is an example:\n",
      "\n",
      "```python\n",
      "def calc_bmi(height: float, weight: float) -> float:\n",
      "    \"\"\"Compute BMI from height and weight\"\"\"\n",
      "    if height <= 0 or weight <= 0:\n",
      "        raise ValueError('Height and weight must be positive numbers')\n",
      "    \n",
      "    bmi = weight / (height ** 2)\n",
      "    return round(bmi, 2)\n",
      "```\n",
      "\n",
      "This function takes two arguments, `height` and `weight`, which are assumed to be in meters and kilograms, respectively. It calculates BMI by dividing weight by height squared and rounds the result to two decimal places using the `round()` function. A `ValueError` is raised if either height or weight is less than or equal to zero, to prevent dividing by zero.\n",
      "\n",
      "Here is an example of how to use this function:\n",
      "\n",
      "```python\n",
      ">>> calc_bmi(1.8, 75)\n",
      "23.15\n",
      ">>> calc_bmi(1.5, 50)\n",
      "22.22\n",
      ">>> calc_bmi(1.6, -70)\n",
      "ValueError: Height and weight must be positive numbers\n",
      "```\n"
     ]
    }
   ],
   "source": [
    "print(res[\"choices\"][0][\"message\"][\"content\"])"
   ]
  },
  {
   "cell_type": "code",
   "execution_count": 18,
   "id": "f36889cb-c8c4-473f-abb6-06544194d783",
   "metadata": {
    "tags": []
   },
   "outputs": [],
   "source": [
    "def calculate_bmi(height: float, weight: float) -> float:\n",
    "    \"\"\"Calculate BMI (Body Mass Index) from height and weight.\n",
    "\n",
    "    Args:\n",
    "        height: A float representing height in meters.\n",
    "        weight: A float representing weight in kilograms.\n",
    "\n",
    "    Returns:\n",
    "        A float representing BMI.\n",
    "    \"\"\"\n",
    "    return weight / (height ** 2)"
   ]
  },
  {
   "cell_type": "code",
   "execution_count": 19,
   "id": "564a8896-79f3-4932-9809-7934b2e03506",
   "metadata": {
    "tags": []
   },
   "outputs": [
    {
     "data": {
      "text/plain": [
       "26.384131883021567"
      ]
     },
     "execution_count": 19,
     "metadata": {},
     "output_type": "execute_result"
    }
   ],
   "source": [
    "calculate_bmi(1.63, 70.1)"
   ]
  },
  {
   "cell_type": "code",
   "execution_count": 20,
   "id": "8d59e7ec-4f8a-4352-9b3c-54e0d261d256",
   "metadata": {
    "tags": []
   },
   "outputs": [
    {
     "data": {
      "text/plain": [
       "24.541715750098163"
      ]
     },
     "execution_count": 20,
     "metadata": {},
     "output_type": "execute_result"
    }
   ],
   "source": [
    "calculate_bmi(1.524, 57)"
   ]
  },
  {
   "cell_type": "code",
   "execution_count": 22,
   "id": "be36c15e-1153-4224-9a65-1707fdbb410d",
   "metadata": {
    "tags": []
   },
   "outputs": [],
   "source": [
    "res2 = openai.ChatCompletion.create(\n",
    "    model=\"gpt-3.5-turbo\",\n",
    "    messages=[{\"role\":\"user\", \"content\":\"write a python function to compute bmi from height, weight and age\"}]\n",
    ")"
   ]
  },
  {
   "cell_type": "code",
   "execution_count": 25,
   "id": "0ef2ebc4-0b9d-42e2-8d39-283c4be7ebe7",
   "metadata": {
    "tags": []
   },
   "outputs": [
    {
     "name": "stdout",
     "output_type": "stream",
     "text": [
      "As an AI language model, I cannot write code in Python, but I can provide you with a sample code that you can use as a reference for your Python function to compute BMI from height, weight, and age.\n",
      "\n",
      "Here's the sample code:\n",
      "\n",
      "```python\n",
      "def compute_bmi(height, weight, age):\n",
      "    \"\"\"\n",
      "    Compute the BMI (Body Mass Index) of an individual given their height, weight, and age.\n",
      "    \"\"\"\n",
      "    # Convert height to meters\n",
      "    height_m = height / 100\n",
      "\n",
      "    # Calculate the BMI using the formula: weight / (height_m ** 2)\n",
      "    bmi = weight / (height_m ** 2)\n",
      "\n",
      "    return bmi\n",
      "```\n",
      "\n",
      "You can call this function by passing the individual's height, weight, and age as arguments:\n",
      "\n",
      "```python\n",
      "# Example usage\n",
      "height = 170  # in centimeters\n",
      "weight = 70   # in kilograms\n",
      "age = 25\n",
      "\n",
      "bmi = compute_bmi(height, weight, age)\n",
      "print(\"BMI:\", bmi)\n",
      "```\n",
      "\n",
      "This will output the calculated BMI value, which can then be used to determine the person's weight status according to the standard BMI categories.\n"
     ]
    }
   ],
   "source": [
    "print(res2[\"choices\"][0][\"message\"][\"content\"])"
   ]
  },
  {
   "cell_type": "code",
   "execution_count": 7,
   "id": "c25dfb98-2ed3-425e-a0f7-510ebc8cef25",
   "metadata": {},
   "outputs": [
    {
     "name": "stdout",
     "output_type": "stream",
     "text": [
      "Help on class Completion in module openai.api_resources.completion:\n",
      "\n",
      "class Completion(openai.api_resources.abstract.engine_api_resource.EngineAPIResource)\n",
      " |  Completion(engine: Union[str, NoneType] = None, **kwargs)\n",
      " |  \n",
      " |  dict() -> new empty dictionary\n",
      " |  dict(mapping) -> new dictionary initialized from a mapping object's\n",
      " |      (key, value) pairs\n",
      " |  dict(iterable) -> new dictionary initialized as if via:\n",
      " |      d = {}\n",
      " |      for k, v in iterable:\n",
      " |          d[k] = v\n",
      " |  dict(**kwargs) -> new dictionary initialized with the name=value pairs\n",
      " |      in the keyword argument list.  For example:  dict(one=1, two=2)\n",
      " |  \n",
      " |  Method resolution order:\n",
      " |      Completion\n",
      " |      openai.api_resources.abstract.engine_api_resource.EngineAPIResource\n",
      " |      openai.api_resources.abstract.api_resource.APIResource\n",
      " |      openai.openai_object.OpenAIObject\n",
      " |      builtins.dict\n",
      " |      builtins.object\n",
      " |  \n",
      " |  Class methods defined here:\n",
      " |  \n",
      " |  async acreate(*args, **kwargs) from builtins.type\n",
      " |      Creates a new completion for the provided prompt and parameters.\n",
      " |      \n",
      " |      See https://platform.openai.com/docs/api-reference/completions/create for a list\n",
      " |      of valid parameters.\n",
      " |  \n",
      " |  create(*args, **kwargs) from builtins.type\n",
      " |      Creates a new completion for the provided prompt and parameters.\n",
      " |      \n",
      " |      See https://platform.openai.com/docs/api-reference/completions/create for a list\n",
      " |      of valid parameters.\n",
      " |  \n",
      " |  ----------------------------------------------------------------------\n",
      " |  Data and other attributes defined here:\n",
      " |  \n",
      " |  OBJECT_NAME = 'completions'\n",
      " |  \n",
      " |  ----------------------------------------------------------------------\n",
      " |  Methods inherited from openai.api_resources.abstract.engine_api_resource.EngineAPIResource:\n",
      " |  \n",
      " |  __init__(self, engine: Union[str, NoneType] = None, **kwargs)\n",
      " |      Initialize self.  See help(type(self)) for accurate signature.\n",
      " |  \n",
      " |  async await_(self, timeout=None)\n",
      " |      Async version of `EngineApiResource.wait`\n",
      " |  \n",
      " |  instance_url(self)\n",
      " |  \n",
      " |  wait(self, timeout=None)\n",
      " |  \n",
      " |  ----------------------------------------------------------------------\n",
      " |  Class methods inherited from openai.api_resources.abstract.engine_api_resource.EngineAPIResource:\n",
      " |  \n",
      " |  class_url(engine: Union[str, NoneType] = None, api_type: Union[str, NoneType] = None, api_version: Union[str, NoneType] = None) from builtins.type\n",
      " |  \n",
      " |  ----------------------------------------------------------------------\n",
      " |  Data and other attributes inherited from openai.api_resources.abstract.engine_api_resource.EngineAPIResource:\n",
      " |  \n",
      " |  plain_old_data = False\n",
      " |  \n",
      " |  ----------------------------------------------------------------------\n",
      " |  Methods inherited from openai.api_resources.abstract.api_resource.APIResource:\n",
      " |  \n",
      " |  async arefresh(self, request_id=None, request_timeout=None)\n",
      " |  \n",
      " |  refresh(self, request_id=None, request_timeout=None)\n",
      " |  \n",
      " |  ----------------------------------------------------------------------\n",
      " |  Class methods inherited from openai.api_resources.abstract.api_resource.APIResource:\n",
      " |  \n",
      " |  aretrieve(id, api_key=None, request_id=None, request_timeout=None, **params) from builtins.type\n",
      " |  \n",
      " |  retrieve(id, api_key=None, request_id=None, request_timeout=None, **params) from builtins.type\n",
      " |  \n",
      " |  ----------------------------------------------------------------------\n",
      " |  Data and other attributes inherited from openai.api_resources.abstract.api_resource.APIResource:\n",
      " |  \n",
      " |  api_prefix = ''\n",
      " |  \n",
      " |  azure_api_prefix = 'openai'\n",
      " |  \n",
      " |  azure_deployments_prefix = 'deployments'\n",
      " |  \n",
      " |  ----------------------------------------------------------------------\n",
      " |  Methods inherited from openai.openai_object.OpenAIObject:\n",
      " |  \n",
      " |  __copy__(self)\n",
      " |      # This class overrides __setitem__ to throw exceptions on inputs that it\n",
      " |      # doesn't like. This can cause problems when we try to copy an object\n",
      " |      # wholesale because some data that's returned from the API may not be valid\n",
      " |      # if it was set to be set manually. Here we override the class' copy\n",
      " |      # arguments so that we can bypass these possible exceptions on __setitem__.\n",
      " |  \n",
      " |  __deepcopy__(self, memo)\n",
      " |      # This class overrides __setitem__ to throw exceptions on inputs that it\n",
      " |      # doesn't like. This can cause problems when we try to copy an object\n",
      " |      # wholesale because some data that's returned from the API may not be valid\n",
      " |      # if it was set to be set manually. Here we override the class' copy\n",
      " |      # arguments so that we can bypass these possible exceptions on __setitem__.\n",
      " |  \n",
      " |  __delattr__(self, k)\n",
      " |      Implement delattr(self, name).\n",
      " |  \n",
      " |  __delitem__(self, k)\n",
      " |      Delete self[key].\n",
      " |  \n",
      " |  __getattr__(self, k)\n",
      " |  \n",
      " |  __reduce__(self)\n",
      " |      Helper for pickle.\n",
      " |  \n",
      " |  __repr__(self)\n",
      " |      Return repr(self).\n",
      " |  \n",
      " |  __setattr__(self, k, v)\n",
      " |      Implement setattr(self, name, value).\n",
      " |  \n",
      " |  __setitem__(self, k, v)\n",
      " |      Set self[key] to value.\n",
      " |  \n",
      " |  __setstate__(self, state)\n",
      " |      # Custom unpickling method that uses `update` to update the dictionary\n",
      " |      # without calling __setitem__, which would fail if any value is an empty\n",
      " |      # string\n",
      " |  \n",
      " |  __str__(self)\n",
      " |      Return str(self).\n",
      " |  \n",
      " |  async arequest(self, method, url, params=None, headers=None, stream=False, plain_old_data=False, request_id: Union[str, NoneType] = None, request_timeout: Union[float, Tuple[float, float], NoneType] = None)\n",
      " |  \n",
      " |  refresh_from(self, values, api_key=None, api_version=None, api_type=None, organization=None, response_ms: Union[int, NoneType] = None)\n",
      " |  \n",
      " |  request(self, method, url, params=None, headers=None, stream=False, plain_old_data=False, request_id: Union[str, NoneType] = None, request_timeout: Union[float, Tuple[float, float], NoneType] = None)\n",
      " |  \n",
      " |  to_dict(self)\n",
      " |  \n",
      " |  to_dict_recursive(self)\n",
      " |  \n",
      " |  ----------------------------------------------------------------------\n",
      " |  Class methods inherited from openai.openai_object.OpenAIObject:\n",
      " |  \n",
      " |  api_base() from builtins.type\n",
      " |  \n",
      " |  construct_from(values, api_key: Union[str, NoneType] = None, api_version=None, organization=None, engine=None, response_ms: Union[int, NoneType] = None) from builtins.type\n",
      " |  \n",
      " |  ----------------------------------------------------------------------\n",
      " |  Readonly properties inherited from openai.openai_object.OpenAIObject:\n",
      " |  \n",
      " |  openai_id\n",
      " |  \n",
      " |  response_ms\n",
      " |  \n",
      " |  typed_api_type\n",
      " |  \n",
      " |  ----------------------------------------------------------------------\n",
      " |  Data descriptors inherited from openai.openai_object.OpenAIObject:\n",
      " |  \n",
      " |  __dict__\n",
      " |      dictionary for instance variables (if defined)\n",
      " |  \n",
      " |  __weakref__\n",
      " |      list of weak references to the object (if defined)\n",
      " |  \n",
      " |  ----------------------------------------------------------------------\n",
      " |  Data and other attributes inherited from openai.openai_object.OpenAIObject:\n",
      " |  \n",
      " |  api_base_override = None\n",
      " |  \n",
      " |  ----------------------------------------------------------------------\n",
      " |  Methods inherited from builtins.dict:\n",
      " |  \n",
      " |  __contains__(self, key, /)\n",
      " |      True if the dictionary has the specified key, else False.\n",
      " |  \n",
      " |  __eq__(self, value, /)\n",
      " |      Return self==value.\n",
      " |  \n",
      " |  __ge__(self, value, /)\n",
      " |      Return self>=value.\n",
      " |  \n",
      " |  __getattribute__(self, name, /)\n",
      " |      Return getattr(self, name).\n",
      " |  \n",
      " |  __getitem__(...)\n",
      " |      x.__getitem__(y) <==> x[y]\n",
      " |  \n",
      " |  __gt__(self, value, /)\n",
      " |      Return self>value.\n",
      " |  \n",
      " |  __iter__(self, /)\n",
      " |      Implement iter(self).\n",
      " |  \n",
      " |  __le__(self, value, /)\n",
      " |      Return self<=value.\n",
      " |  \n",
      " |  __len__(self, /)\n",
      " |      Return len(self).\n",
      " |  \n",
      " |  __lt__(self, value, /)\n",
      " |      Return self<value.\n",
      " |  \n",
      " |  __ne__(self, value, /)\n",
      " |      Return self!=value.\n",
      " |  \n",
      " |  __reversed__(self, /)\n",
      " |      Return a reverse iterator over the dict keys.\n",
      " |  \n",
      " |  __sizeof__(...)\n",
      " |      D.__sizeof__() -> size of D in memory, in bytes\n",
      " |  \n",
      " |  clear(...)\n",
      " |      D.clear() -> None.  Remove all items from D.\n",
      " |  \n",
      " |  copy(...)\n",
      " |      D.copy() -> a shallow copy of D\n",
      " |  \n",
      " |  get(self, key, default=None, /)\n",
      " |      Return the value for key if key is in the dictionary, else default.\n",
      " |  \n",
      " |  items(...)\n",
      " |      D.items() -> a set-like object providing a view on D's items\n",
      " |  \n",
      " |  keys(...)\n",
      " |      D.keys() -> a set-like object providing a view on D's keys\n",
      " |  \n",
      " |  pop(...)\n",
      " |      D.pop(k[,d]) -> v, remove specified key and return the corresponding value.\n",
      " |      If key is not found, d is returned if given, otherwise KeyError is raised\n",
      " |  \n",
      " |  popitem(self, /)\n",
      " |      Remove and return a (key, value) pair as a 2-tuple.\n",
      " |      \n",
      " |      Pairs are returned in LIFO (last-in, first-out) order.\n",
      " |      Raises KeyError if the dict is empty.\n",
      " |  \n",
      " |  setdefault(self, key, default=None, /)\n",
      " |      Insert key with a value of default if key is not in the dictionary.\n",
      " |      \n",
      " |      Return the value for key if key is in the dictionary, else default.\n",
      " |  \n",
      " |  update(...)\n",
      " |      D.update([E, ]**F) -> None.  Update D from dict/iterable E and F.\n",
      " |      If E is present and has a .keys() method, then does:  for k in E: D[k] = E[k]\n",
      " |      If E is present and lacks a .keys() method, then does:  for k, v in E: D[k] = v\n",
      " |      In either case, this is followed by: for k in F:  D[k] = F[k]\n",
      " |  \n",
      " |  values(...)\n",
      " |      D.values() -> an object providing a view on D's values\n",
      " |  \n",
      " |  ----------------------------------------------------------------------\n",
      " |  Class methods inherited from builtins.dict:\n",
      " |  \n",
      " |  fromkeys(iterable, value=None, /) from builtins.type\n",
      " |      Create a new dictionary with keys from iterable and values set to value.\n",
      " |  \n",
      " |  ----------------------------------------------------------------------\n",
      " |  Static methods inherited from builtins.dict:\n",
      " |  \n",
      " |  __new__(*args, **kwargs) from builtins.type\n",
      " |      Create and return a new object.  See help(type) for accurate signature.\n",
      " |  \n",
      " |  ----------------------------------------------------------------------\n",
      " |  Data and other attributes inherited from builtins.dict:\n",
      " |  \n",
      " |  __hash__ = None\n",
      "\n"
     ]
    }
   ],
   "source": []
  },
  {
   "cell_type": "code",
   "execution_count": null,
   "id": "41289c9b-9834-465b-b30d-79a9be7d8a41",
   "metadata": {},
   "outputs": [],
   "source": []
  }
 ],
 "metadata": {
  "kernelspec": {
   "display_name": "Python 3 (ipykernel)",
   "language": "python",
   "name": "python3"
  },
  "language_info": {
   "codemirror_mode": {
    "name": "ipython",
    "version": 3
   },
   "file_extension": ".py",
   "mimetype": "text/x-python",
   "name": "python",
   "nbconvert_exporter": "python",
   "pygments_lexer": "ipython3",
   "version": "3.8.16"
  }
 },
 "nbformat": 4,
 "nbformat_minor": 5
}
