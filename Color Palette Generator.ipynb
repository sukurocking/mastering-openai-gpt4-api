{
 "cells": [
  {
   "cell_type": "code",
   "execution_count": 17,
   "id": "121bc9f0-b9ec-44af-a416-6f4a180fec6d",
   "metadata": {
    "tags": []
   },
   "outputs": [],
   "source": [
    "import openai\n",
    "import os\n",
    "import json"
   ]
  },
  {
   "cell_type": "code",
   "execution_count": 2,
   "id": "8a8cfe63-2a22-4331-b866-f261c208e07a",
   "metadata": {
    "tags": []
   },
   "outputs": [],
   "source": [
    "openai.api_key = os.getenv(\"OPENAI_API_KEY\")"
   ]
  },
  {
   "cell_type": "code",
   "execution_count": 35,
   "id": "4901f197-81f2-4ec9-b8dd-f38f13bfae3a",
   "metadata": {
    "tags": []
   },
   "outputs": [],
   "source": [
    "from IPython.display import Markdown, display\n",
    "# def display_color(color):\n",
    "#     display(Markdown(f'<button style=\"color:{color}\">Click me!</button>'))\n",
    "\n",
    "def display_colors(colors):\n",
    "    display(Markdown(\" \".join(\n",
    "        f'<span style=\"color:{color}\">{chr(9608)*4}</span>'\n",
    "        for color in colors\n",
    "    )))"
   ]
  },
  {
   "cell_type": "code",
   "execution_count": 38,
   "id": "be2f8ad4-5bf0-4d4b-9cfb-b94da981ac6b",
   "metadata": {
    "tags": []
   },
   "outputs": [],
   "source": [
    "def get_and_render_colors(msg):\n",
    "    prompt = f\"\"\"\n",
    "    You are a color palette generating assistant that responds to text prompts for color palettes\n",
    "    Your should generate color palettes that fit the theme, mood, or instructions in the prompt.\n",
    "    The palettes should be between 2 and 8 colors.\n",
    "\n",
    "    Q: Convert the following verbal description of a color palette into a list of colors: The Mediterranean Sea\n",
    "    A: [\"#006699\", \"#66CCCC\", \"#F0E68C\", \"#008000\", \"#F08080\"]\n",
    "\n",
    "    Q: Convert the following verbal description of a color palette into a list of colors: sage, nature, earth\n",
    "    A: [\"#EDF1D6\", \"#9DC08B\", \"#609966\", \"#40513B\"]\n",
    "\n",
    "\n",
    "    Desired Format: a JSON array of hexadecimal color codes\n",
    "\n",
    "    Q: Convert the following verbal description of a color palette into a list of colors: {msg} \n",
    "    A:\n",
    "    \"\"\"\n",
    "\n",
    "    response = openai.Completion.create(\n",
    "        prompt = prompt,\n",
    "        model = \"text-davinci-003\",\n",
    "        max_tokens = 200\n",
    "    )\n",
    "    # Converting to a list\n",
    "    colors = json.loads(response[\"choices\"][0][\"text\"])\n",
    "    display_colors(colors)"
   ]
  },
  {
   "cell_type": "code",
   "execution_count": 39,
   "id": "4d9ab130-9e8e-4f94-8940-dfbba0f9854e",
   "metadata": {
    "tags": []
   },
   "outputs": [
    {
     "data": {
      "text/markdown": [
       "<span style=\"color:#4285F4\">████</span> <span style=\"color:#0F9D58\">████</span> <span style=\"color:#DB4437\">████</span> <span style=\"color:#F4B400\">████</span>"
      ],
      "text/plain": [
       "<IPython.core.display.Markdown object>"
      ]
     },
     "metadata": {},
     "output_type": "display_data"
    }
   ],
   "source": [
    "get_and_render_colors(\"4 google brand colors\")"
   ]
  },
  {
   "cell_type": "markdown",
   "id": "fdd9b660-99ff-43ec-be92-7c0442e6cbb4",
   "metadata": {
    "tags": []
   },
   "source": [
    "## Now we will move on to building a standalone app using Flask\n",
    "Flask is a very lightweight server side framework in Python, like Express"
   ]
  },
  {
   "cell_type": "code",
   "execution_count": null,
   "id": "3f8ee3e4-6bcd-49ff-83e7-3a34dffa45d8",
   "metadata": {},
   "outputs": [],
   "source": []
  }
 ],
 "metadata": {
  "kernelspec": {
   "display_name": "Python 3 (ipykernel)",
   "language": "python",
   "name": "python3"
  },
  "language_info": {
   "codemirror_mode": {
    "name": "ipython",
    "version": 3
   },
   "file_extension": ".py",
   "mimetype": "text/x-python",
   "name": "python",
   "nbconvert_exporter": "python",
   "pygments_lexer": "ipython3",
   "version": "3.8.16"
  }
 },
 "nbformat": 4,
 "nbformat_minor": 5
}
